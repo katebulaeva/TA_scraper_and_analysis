{
 "cells": [
  {
   "cell_type": "markdown",
   "metadata": {},
   "source": [
    "# TA Dataset Analysis\n",
    "## Returns useful values such as:\n",
    "\n",
    "For one city\n",
    "\n",
    "- dominant cuisine styles\n",
    "- total reviews\n",
    "- top 10 restaurants cuisine styles\n",
    "- occurencies of cuisine styles\n",
    "- number of restaurants/local population\n",
    "\n",
    "Europe\n",
    "\n",
    "- QGIS for localized visualisation\n",
    "- comparison capitals:\n",
    "    - number restaurants\n",
    "    - dominant style\n",
    "    - cuisine styles of top 50 restaurants of each city (using dict count)\n",
    "    - number restaurant, total reviews -ratio/habitant"
   ]
  },
  {
   "cell_type": "code",
   "execution_count": 5,
   "metadata": {
    "collapsed": true
   },
   "outputs": [],
   "source": [
    "#! /usr/bin/env python3\n",
    "# coding: utf-8\n",
    "\n",
    "import logging\n",
    "import pandas as pd\n",
    "import numpy as np\n",
    "import glob2"
   ]
  },
  {
   "cell_type": "code",
   "execution_count": 3,
   "metadata": {
    "collapsed": true
   },
   "outputs": [],
   "source": [
    "#Enable display of info messages\n",
    "logging.basicConfig(level=logging.INFO)"
   ]
  },
  {
   "cell_type": "markdown",
   "metadata": {},
   "source": [
    "---"
   ]
  },
  {
   "cell_type": "markdown",
   "metadata": {},
   "source": []
  },
  {
   "cell_type": "code",
   "execution_count": null,
   "metadata": {
    "collapsed": true
   },
   "outputs": [],
   "source": []
  }
 ],
 "metadata": {
  "kernelspec": {
   "display_name": "Python 3",
   "language": "python",
   "name": "python3"
  },
  "language_info": {
   "codemirror_mode": {
    "name": "ipython",
    "version": 3
   },
   "file_extension": ".py",
   "mimetype": "text/x-python",
   "name": "python",
   "nbconvert_exporter": "python",
   "pygments_lexer": "ipython3",
   "version": "3.6.3"
  }
 },
 "nbformat": 4,
 "nbformat_minor": 2
}
