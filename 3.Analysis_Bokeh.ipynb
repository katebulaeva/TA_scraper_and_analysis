{
 "cells": [
  {
   "cell_type": "markdown",
   "metadata": {},
   "source": [
    "# TA Dataset Interactive Visualization (Bokeh)"
   ]
  },
  {
   "cell_type": "code",
   "execution_count": 1,
   "metadata": {
    "collapsed": true
   },
   "outputs": [],
   "source": [
    "#! /usr/bin/env python3\n",
    "# coding: utf-8\n",
    "\n",
    "import logging\n",
    "import pandas as pd\n",
    "import numpy as np\n",
    "import matplotlib.pyplot as plt\n",
    "from bokeh.models import row, column, source\n",
    "from bokeh.layouts import gridplot, Tabs, Panel\n",
    "import ast\n",
    "#import seaborn as sns ; sns.set(color_codes=True)"
   ]
  },
  {
   "cell_type": "code",
   "execution_count": 2,
   "metadata": {
    "collapsed": true
   },
   "outputs": [],
   "source": [
    "#Enable display of info messages\n",
    "logging.basicConfig(level=logging.INFO)"
   ]
  },
  {
   "cell_type": "markdown",
   "metadata": {},
   "source": [
    "## Exploration"
   ]
  },
  {
   "cell_type": "code",
   "execution_count": 12,
   "metadata": {
    "scrolled": true
   },
   "outputs": [
    {
     "name": "stdout",
     "output_type": "stream",
     "text": [
      "                         Name       City  \\\n",
      "0  Martine of Martine's Table  Amsterdam   \n",
      "1         De Silveren Spiegel  Amsterdam   \n",
      "2                     La Rive  Amsterdam   \n",
      "3                    Vinkeles  Amsterdam   \n",
      "4   Librije's Zusje Amsterdam  Amsterdam   \n",
      "\n",
      "                                       Cuisine Style  Ranking  Rating  \\\n",
      "0                    ['French', 'Dutch', 'European']      1.0     5.0   \n",
      "1  ['Dutch', 'European', 'Vegetarian Friendly', '...      2.0     4.5   \n",
      "2  ['Mediterranean', 'French', 'International', '...      3.0     4.5   \n",
      "3  ['French', 'European', 'International', 'Conte...      4.0     5.0   \n",
      "4  ['Dutch', 'European', 'International', 'Vegeta...      5.0     4.5   \n",
      "\n",
      "  Price Range  Number of Reviews  \\\n",
      "0    $$ - $$$              136.0   \n",
      "1        $$$$              812.0   \n",
      "2        $$$$              567.0   \n",
      "3        $$$$              564.0   \n",
      "4        $$$$              316.0   \n",
      "\n",
      "                                             Reviews  \\\n",
      "0  [['Just like home', 'A Warm Welcome to Wintry ...   \n",
      "1  [['Great food and staff', 'just perfect'], ['0...   \n",
      "2  [['Satisfaction', 'Delicious old school restau...   \n",
      "3  [['True five star dinner', 'A superb evening o...   \n",
      "4  [['Best meal.... EVER', 'super food experience...   \n",
      "\n",
      "                                              URL_TA      ID_TA  \n",
      "0  /Restaurant_Review-g188590-d11752080-Reviews-M...  d11752080  \n",
      "1  /Restaurant_Review-g188590-d693419-Reviews-De_...    d693419  \n",
      "2  /Restaurant_Review-g188590-d696959-Reviews-La_...    d696959  \n",
      "3  /Restaurant_Review-g188590-d1239229-Reviews-Vi...   d1239229  \n",
      "4  /Restaurant_Review-g188590-d6864170-Reviews-Li...   d6864170   \n",
      "\n",
      "                              Name    City  \\\n",
      "1662  Konrad Kaffee- & Cocktailbar  Zurich   \n",
      "1663     Blueberry American Bakery  Zurich   \n",
      "1664            Restaurant Bahnhof  Zurich   \n",
      "1665                    Yoyo Pizza  Zurich   \n",
      "1666                         dieci  Zurich   \n",
      "\n",
      "                                       Cuisine Style  Ranking  Rating  \\\n",
      "1662                                             NaN      NaN     NaN   \n",
      "1663                                        ['Cafe']      NaN     NaN   \n",
      "1664                                             NaN      NaN     NaN   \n",
      "1665                                   ['Fast Food']      NaN     NaN   \n",
      "1666  ['Italian', 'Pizza', 'Mediterranean', 'Diner']      NaN     NaN   \n",
      "\n",
      "     Price Range  Number of Reviews Reviews  \\\n",
      "1662         NaN                NaN     NaN   \n",
      "1663         NaN                NaN     NaN   \n",
      "1664         NaN                NaN     NaN   \n",
      "1665         NaN                NaN     NaN   \n",
      "1666    $$ - $$$                NaN     NaN   \n",
      "\n",
      "                                                 URL_TA      ID_TA  \n",
      "1662  /Restaurant_Review-g188113-d13273526-Reviews-K...  d13273526  \n",
      "1663  /Restaurant_Review-g188113-d13292844-Reviews-B...  d13292844  \n",
      "1664  /Restaurant_Review-g188113-d13296092-Reviews-R...  d13296092  \n",
      "1665  /Restaurant_Review-g188113-d13323362-Reviews-Y...  d13323362  \n",
      "1666  /Restaurant_Review-g188113-d13349842-Reviews-D...  d13349842   \n",
      "\n",
      "<class 'pandas.core.frame.DataFrame'>\n",
      "Int64Index: 125433 entries, 0 to 1666\n",
      "Data columns (total 10 columns):\n",
      "Name                 125433 non-null object\n",
      "City                 125433 non-null object\n",
      "Cuisine Style        94064 non-null object\n",
      "Ranking              115950 non-null float64\n",
      "Rating               115972 non-null float64\n",
      "Price Range          77605 non-null object\n",
      "Number of Reviews    108276 non-null float64\n",
      "Reviews              115989 non-null object\n",
      "URL_TA               125433 non-null object\n",
      "ID_TA                125433 non-null object\n",
      "dtypes: float64(3), object(7)\n",
      "memory usage: 10.5+ MB\n",
      "None\n"
     ]
    }
   ],
   "source": [
    "#load dataset\n",
    "dataset = pd.read_csv('TA_restaurants_curated.csv', encoding='utf8', index_col=0)\n",
    "print(dataset.head(), '\\n')\n",
    "print(dataset.tail(), '\\n')\n",
    "print(dataset.info())"
   ]
  },
  {
   "cell_type": "markdown",
   "metadata": {},
   "source": [
    "As a result of categorization, less memory usage"
   ]
  },
  {
   "cell_type": "markdown",
   "metadata": {},
   "source": [
    "## Interactive visualization of the dataset\n",
    "One graph that shows global data by city (using Seaborn or Bokeh and mixed plots) like number of restaurants, number of reviews, by rates, etc.\n",
    "- aggregated by cities \n",
    "- non-aggregated\n",
    "\n",
    "### Global"
   ]
  },
  {
   "cell_type": "code",
   "execution_count": null,
   "metadata": {
    "collapsed": true
   },
   "outputs": [],
   "source": []
  },
  {
   "cell_type": "markdown",
   "metadata": {},
   "source": [
    "### Aggregated by city\n",
    "- aggregate dataset accordingly"
   ]
  },
  {
   "cell_type": "code",
   "execution_count": null,
   "metadata": {
    "collapsed": true
   },
   "outputs": [],
   "source": []
  }
 ],
 "metadata": {
  "kernelspec": {
   "display_name": "Python 3",
   "language": "python",
   "name": "python3"
  },
  "language_info": {
   "codemirror_mode": {
    "name": "ipython",
    "version": 3
   },
   "file_extension": ".py",
   "mimetype": "text/x-python",
   "name": "python",
   "nbconvert_exporter": "python",
   "pygments_lexer": "ipython3",
   "version": "3.6.3"
  }
 },
 "nbformat": 4,
 "nbformat_minor": 2
}
