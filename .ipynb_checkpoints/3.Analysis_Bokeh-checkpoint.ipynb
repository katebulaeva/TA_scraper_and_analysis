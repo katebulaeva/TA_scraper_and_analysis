{
 "cells": [
  {
   "cell_type": "markdown",
   "metadata": {},
   "source": [
    "# TA Dataset Interactive Visualization (Bokeh)"
   ]
  },
  {
   "cell_type": "code",
   "execution_count": null,
   "metadata": {},
   "outputs": [],
   "source": [
    "#! /usr/bin/env python3\n",
    "# coding: utf-8\n",
    "\n",
    "import logging\n",
    "import pandas as pd\n",
    "import numpy as np\n",
    "\n",
    "#For Bokeh plotting\n",
    "from bokeh.io import output_file, show, curdoc, output_notebook, reset_output\n",
    "from bokeh.plotting import figure\n",
    "from bokeh.models import ColumnDataSource, CategoricalColorMapper, HoverTool, WMTSTileSource\n",
    "from bokeh.models.widgets import CheckboxGroup, CheckboxButtonGroup, Button, Select, Paragraph\n",
    "from bokeh.layouts import widgetbox, row, column #,gridplot, Tabs, Panel\n",
    "from bokeh.transform import jitter\n",
    "from bokeh.palettes import Spectral11\n",
    "from bokeh import tile_providers\n",
    "\n",
    "#Bokeh server\n",
    "from bokeh.server.server import Server\n",
    "from bokeh.application import Application\n",
    "from bokeh.application.handlers.function import FunctionHandler\n",
    "\n",
    "output_notebook()"
   ]
  },
  {
   "cell_type": "code",
   "execution_count": null,
   "metadata": {},
   "outputs": [],
   "source": [
    "!pip list --format=legacy > requirements.txt"
   ]
  },
  {
   "cell_type": "code",
   "execution_count": null,
   "metadata": {
    "collapsed": true
   },
   "outputs": [],
   "source": [
    "#Enable display of info messages\n",
    "logging.basicConfig(level=logging.INFO)"
   ]
  },
  {
   "cell_type": "code",
   "execution_count": null,
   "metadata": {
    "collapsed": true
   },
   "outputs": [],
   "source": [
    "!jupyter notebook --NotebookApp.iopub_data_rate_limit=10000000000"
   ]
  },
  {
   "cell_type": "code",
   "execution_count": null,
   "metadata": {
    "collapsed": true
   },
   "outputs": [],
   "source": [
    "reset_output()"
   ]
  },
  {
   "cell_type": "markdown",
   "metadata": {},
   "source": [
    "## Loading of the Dataset"
   ]
  },
  {
   "cell_type": "code",
   "execution_count": null,
   "metadata": {
    "scrolled": true
   },
   "outputs": [],
   "source": [
    "#load dataset\n",
    "dataset = pd.read_csv('TA_restaurants_curated.csv', encoding='utf8', index_col=0)\n",
    "print(dataset.head(), '\\n')\n",
    "#print(dataset.tail(), '\\n')\n",
    "#print(dataset.info())\n",
    "\n",
    "#Replace NaN values by 'Unknown'\n",
    "dataset['Cuisine Style'] = dataset['Cuisine Style'].astype(list)\n",
    "#dataset['Ranking'] = dataset['Ranking'].fillna('Unknown')\n",
    "dataset['Rating'] = dataset['Rating'].fillna('?').astype(str)\n",
    "dataset['Price Range'] = dataset['Price Range'].fillna('Unknown').astype(str)\n",
    "dataset['Number of Reviews'] = dataset['Number of Reviews'].fillna(0)\n",
    "print('\\n'+'Dataset info after fillna()')\n",
    "print(dataset.info())"
   ]
  },
  {
   "cell_type": "markdown",
   "metadata": {},
   "source": [
    "## Interactive visualization of the dataset\n",
    "One graph that shows global data by city (using Bokeh) like number of restaurants, number of reviews, by rates, etc.\n",
    "- Global: all restaurants individual properties\n",
    "- Aggregated by cities : restaurants properties aggregated to the scale of the city\n",
    "\n",
    "### Global\n",
    "- Plot: display x:rank, y: number of reviews, color:price range\n",
    "- Bokeh Server (interactive app) : \n",
    "     - choose price range (legend), \n",
    "     - rate and city (widgets), \n",
    "     - buttons to reselect all, unselect all, refresh plot\n",
    "     - automatic resizing of the plot according to min and max values\n",
    "- 2 plots with linked axes for visualizing as scatter categorical plot x: nbr reviews, y: price range/rate\n",
    "     \n",
    "#### Simple Plot"
   ]
  },
  {
   "cell_type": "code",
   "execution_count": null,
   "metadata": {
    "collapsed": true
   },
   "outputs": [],
   "source": [
    "#SImple Bokeh Plot\n",
    "plot = figure(plot_width=800, plot_height=600, x_axis_label='Rank of the restaurant', \n",
    "              y_axis_label='Number of reviews', title='Global restaurants overview',\n",
    "              tools='pan,box_zoom,wheel_zoom,tap,save,lasso_select')\n",
    "#Data sources for each price range category, in order to have separate legends and hide them\n",
    "price_ranges = dataset['Price Range'].unique().tolist()\n",
    "source_low = ColumnDataSource(dataset[dataset['Price Range'] == '$'])\n",
    "source_mid = ColumnDataSource(dataset[dataset['Price Range'] == '$$ - $$$'])\n",
    "source_high = ColumnDataSource(dataset[dataset['Price Range'] == '$$$$'])\n",
    "source_unknown = ColumnDataSource(dataset[dataset['Price Range'] == 'Unknown'])\n",
    "sources = [source_low, source_mid, source_high, source_unknown]\n",
    "#Separated glyphs for price range in order to use legen hide function\n",
    "for pr, color, source in zip(price_ranges, ['yellow', 'red', 'green', 'gray'], sources):\n",
    "    plot.circle('Ranking', 'Number of Reviews', source=source, color=color, size=4, alpha=0.5, legend=pr)\n",
    "    #Hover tool hat displays name and city over point\n",
    "    hover = HoverTool(tooltips=[('Restaurant Name', '@Name' ), ('City', '@City'), \n",
    "                                ('Rate', '@Rating'), ('Rank', '@Ranking')])\n",
    "    plot.add_tools(hover)  \n",
    "#Legend customization\n",
    "plot.legend.location='top_right'\n",
    "plot.legend.click_policy=\"hide\"\n",
    "\n",
    "output_notebook()\n",
    "show(plot, notebook_handle=True)"
   ]
  },
  {
   "cell_type": "markdown",
   "metadata": {},
   "source": [
    "#### Bokeh App (Bokeh Server)\n",
    "*The server disconnect when the entire dataset is taken for the plot, but not when slicing iloc[:50000] for example*\n",
    "\n",
    "INFO:bokeh.server.views.ws:WebSocket connection closed: code=None, reason=None"
   ]
  },
  {
   "cell_type": "code",
   "execution_count": null,
   "metadata": {
    "collapsed": true
   },
   "outputs": [],
   "source": [
    "#BOKEH SERVER with interactive widgets to choose city, price range or rate (checkbox)\n",
    "def make_document(document):\n",
    "    #Load dataset\n",
    "    dataset = pd.read_csv(\"C://Users/Damien/Documents/Python Dev/Trainings/Tripadvisor_scrapping/TA_restaurants_curated.csv\",\n",
    "                          encoding='utf8', index_col=0)\n",
    "    dataset['Rating'] = dataset['Rating'].fillna('?').astype(str)\n",
    "    dataset['Price Range'] = dataset['Price Range'].fillna('?').astype(str)\n",
    "    dataset['Number of Reviews'] = dataset['Number of Reviews'].fillna(0)\n",
    "    \n",
    "    dataset.iloc[:50000]  #The Bokeh Server does not accept the entire dataset when run on the computer\n",
    "    \n",
    "    print(dataset.info())\n",
    "    \n",
    "    #Plot figure\n",
    "    plot = figure(plot_width=900, plot_height=600, x_axis_label='Rank of the restaurant', \n",
    "                  y_axis_label='Number of reviews',\n",
    "                  x_range=(0, int(dataset['Ranking'].max().tolist())),\n",
    "                  y_range=(0, int(dataset['Number of Reviews'].max().tolist())+500),\n",
    "                  title='Global restaurants overview',\n",
    "                  tools='pan,box_zoom,wheel_zoom,tap,save,lasso_select')\n",
    "    #Hover tool hat displays name and city over point\n",
    "    hover = HoverTool(tooltips=[('Restaurant Name', '@Name' ), ('City', '@City'), \n",
    "                                ('Rate', '@Rating'), ('Rank', '@Ranking')])\n",
    "    #Data sources for each price range category, in order to have separate legends and hide them\n",
    "    price_ranges = dataset['Price Range'].unique().tolist()\n",
    "    source_low = ColumnDataSource(dataset[dataset['Price Range'] == '$'])\n",
    "    source_mid = ColumnDataSource(dataset[dataset['Price Range'] == '$$ - $$$'])\n",
    "    source_high = ColumnDataSource(dataset[dataset['Price Range'] == '$$$$'])\n",
    "    source_unknown = ColumnDataSource(dataset[dataset['Price Range'] == 'Unknown'])\n",
    "    sources = [source_low, source_mid, source_high, source_unknown]\n",
    "    #Separated glyphs for price range in order to use legen hide function\n",
    "    for pr, color, source in zip(price_ranges, ['yellow', 'red', 'green', 'gray'], sources):\n",
    "        plot.circle('Ranking', 'Number of Reviews', source=source, color=color, size=4, alpha=0.5, legend='Price Range')\n",
    "        plot.add_tools(hover)  \n",
    "    #Legend customization\n",
    "    plot.legend.location='top_right'\n",
    "    plot.legend.orientation=\"horizontal\"\n",
    "    plot.legend.click_policy=\"hide\"\n",
    "    \n",
    "    #Checkboxes objects added to the layout\n",
    "    cities_list = dataset['City'].unique().tolist()\n",
    "    rates_list = dataset['Rating'].unique().astype(str).tolist()\n",
    "    checkbox_cities = CheckboxGroup(labels=cities_list, active=[])\n",
    "    checkbox_rates = CheckboxGroup(labels=rates_list, active=[])\n",
    "    #Select_all  and refresh buttons\n",
    "    button_all = Button(label='Select all parameters')\n",
    "    button_refresh = Button(label='Refresh plot')\n",
    "    button_none = Button(label='Select none')\n",
    "    \n",
    "    #Callback functions\n",
    "    def select_all():\n",
    "        checkbox_cities.active = list(range(len(cities_list)))\n",
    "        checkbox_rates.active = list(range(len(rates_list)))\n",
    "    button_all.on_click(select_all)\n",
    "    \n",
    "    def select_none():\n",
    "        checkbox_cities.active = []\n",
    "        checkbox_rates.active = []\n",
    "    button_none.on_click(select_none)        \n",
    "    \n",
    "    def refresh():\n",
    "        #Get choices from checkboxes (indexes of activated boxes)\n",
    "        cities_choice = [cities_list[i] for i in checkbox_cities.active]    \n",
    "        rates_choice = [rates_list[i] for i in checkbox_rates.active]\n",
    "        print(cities_choice, rates_choice)\n",
    "        #update sources of the glyphs by filtering the dataset according to cities and rates selected\n",
    "        filtered_dataset = dataset[dataset['City'].isin(cities_choice) & dataset['Rating'].isin(rates_choice)]\n",
    "        print(filtered_dataset.head(10))\n",
    "        source_low.data = ColumnDataSource(filtered_dataset[filtered_dataset['Price Range'] == '$']).data\n",
    "        source_mid.data = ColumnDataSource(filtered_dataset[filtered_dataset['Price Range'] == '$$ - $$$']).data\n",
    "        source_high.data = ColumnDataSource(filtered_dataset[filtered_dataset['Price Range'] == '$$$$']).data\n",
    "        source_unknown.data = ColumnDataSource(filtered_dataset[filtered_dataset['Price Range'] == 'Unknown']).data\n",
    "        layout.children[1] = create_figure()\n",
    "    button_refresh.on_click(refresh)\n",
    "    \n",
    "    #Layout\n",
    "    layout = row(widgetbox(checkbox_cities, width=100), widgetbox(checkbox_rates, width=60),\n",
    "                   column(row(widgetbox(button_all), widgetbox(button_none),widgetbox(button_refresh)), plot))\n",
    "    document.add_root(layout)\n",
    "    document.title = \"Global Restaurants Information Visualization\"\n",
    "\n",
    "#Server\n",
    "apps = {'/': Application(FunctionHandler(make_document))}\n",
    "server = Server(apps, port=5001)\n",
    "server.start()  #Then open browser at adress \"localhost:50xx\""
   ]
  },
  {
   "cell_type": "markdown",
   "metadata": {},
   "source": [
    "#### 2 Categorical scatter plots with axes linked:\n",
    "- x: number of reviews, y: price range\n",
    "- x: number or reviews, y: rate"
   ]
  },
  {
   "cell_type": "code",
   "execution_count": null,
   "metadata": {
    "collapsed": true,
    "scrolled": true
   },
   "outputs": [],
   "source": [
    "global_source = ColumnDataSource(dataset)\n",
    "hover = HoverTool(tooltips=[('Restaurant Name', '@Name' ), ('City', '@City'), \n",
    "                            ('Rate', '@Rating'), ('Rank', '@Ranking')])\n",
    "\n",
    "#First plot\n",
    "price_ranges = dataset['Price Range'].unique().tolist()\n",
    "plot2 = figure(plot_width=800, plot_height=400, x_axis_label='Number of Reviews', \n",
    "              y_axis_label='Price Range', y_range=price_ranges,\n",
    "               title='Global restaurants overview by Number of reviews and Price Range',\n",
    "               tools='pan,box_zoom,wheel_zoom,tap,save,lasso_select')\n",
    "plot2.circle(x='Number of Reviews', y=jitter('Price Range', width=0.6, range=plot2.y_range), \n",
    "             source=global_source, size=4, alpha=0.5)\n",
    "plot2.add_tools(hover)\n",
    "    \n",
    "#Second plot\n",
    "rates = dataset['Rating'].unique().astype(str).tolist()\n",
    "plot3 = figure(plot_width=800, plot_height=400, x_axis_label='Number of Reviews', \n",
    "              y_axis_label='Rate', y_range=rates, \n",
    "               title='Global restaurants overview by Number of Revies and Rate',\n",
    "               tools='pan,box_zoom,wheel_zoom,tap,save,lasso_select')\n",
    "plot3.circle(x='Number of Reviews', y=jitter('Rating', width=0.6, range=plot3.y_range), \n",
    "             source=global_source, size=4, alpha=0.5)\n",
    "plot3.add_tools(hover)\n",
    "\n",
    "#Linking of the axis\n",
    "layout2 = column(plot2, plot3)\n",
    "plot2.x_range = plot3.x_range\n",
    "\n",
    "show(layout2)"
   ]
  },
  {
   "cell_type": "markdown",
   "metadata": {},
   "source": [
    "### Aggregated by city\n",
    "- aggregate dataset accordingly with different methods for each columns (count, sum, average, etc.)\n",
    "    - name: count \n",
    "    - number of reviews: sum, average, max (min is 0)\n",
    "    - cuisine_styles: custom_count (dict object), \n",
    "    - price range & rate as index (categories)\n",
    "    - rank, cuisine styles: no aggregation\n",
    "    \n",
    "        \n",
    "- Interactive plot:\n",
    "    - widget to choose the country to display\n",
    "    - repartitions according to price range & rate\n",
    "- Interactive map: for each city: display info by hovering\n",
    "    http://nbviewer.jupyter.org/github/bokeh/bokeh-notebooks/blob/master/tutorial/09%20-%20Geographic%20Plots.ipynb\n",
    "    \n",
    "#### Aggregation of the dataset per city\n"
   ]
  },
  {
   "cell_type": "code",
   "execution_count": null,
   "metadata": {},
   "outputs": [],
   "source": [
    "#Aggregated dataset creation using dict aggregation rule\n",
    "agg_dict = {'City': 'count', 'Number of Reviews': ['sum','mean', 'max']}\n",
    "agg_dataset = dataset.groupby('City').agg(agg_dict)\n",
    "\n",
    "pr_df = pd.DataFrame({'Price Range':dataset.groupby(['City','Price Range']).count()['Name']}).unstack()\n",
    "rate_df = pd.DataFrame({'Rate': dataset.groupby(['City', 'Rating']).count()['Name']}).unstack()\n",
    "\n",
    "agg_dataset = pd.concat([agg_dataset, pr_df, rate_df], axis=1)\n",
    "\n",
    "print(agg_dataset.head())\n",
    "print(agg_dataset.info())"
   ]
  },
  {
   "cell_type": "markdown",
   "metadata": {},
   "source": [
    "#### Visualization of aggregated data for each city (Bokeh app)\n",
    "- total number of restaurants and reviews\n",
    "- bar chart for price range repartition\n",
    "- bar chart for rate repartition\n",
    "- dropdowwn menu for city selection"
   ]
  },
  {
   "cell_type": "code",
   "execution_count": null,
   "metadata": {
    "scrolled": true
   },
   "outputs": [],
   "source": [
    "price_ranges_bars = ['$', '$$ - $$$', '$$$$', 'Unknown']\n",
    "rates =sorted(dataset['Rating'].unique().tolist()[:-1])+['?']\n",
    "flat_column_labels = ['Total_Restaurants', 'Sum_Reviews', 'Mean_Reviews', 'Max_Reviews']+price_ranges_bars+rates\n",
    "\n",
    "def make_bars(bars):\n",
    "    #default source is Krakow\n",
    "    source_df = agg_dataset.loc[['Krakow']]\n",
    "    source_df.columns = flat_column_labels\n",
    "    #print(source_df)\n",
    "    source_city = ColumnDataSource(source_df)\n",
    "\n",
    "    #bar charts with Price Range vbar glyphs\n",
    "    plot_pr = figure(plot_width=700, plot_height=300, title=\"Retaurants repartition per price range\",\n",
    "                     x_range=price_ranges_bars, x_axis_label=\"Price Range\")\n",
    "    k=0.5\n",
    "    for pr, color in zip(price_ranges_bars, ['yellow', 'red', 'green', 'gray']):\n",
    "        plot_pr.vbar(x=k, top=pr, bottom=0, source=source_city, width=1, fill_color=color, legend=pr)\n",
    "        k += 1\n",
    "\n",
    "    #Bar chart with Rate using vbar glyphs\n",
    "    plot_rates = figure(plot_width=700, plot_height=300, title=\"Retaurants repartition per rate\",\n",
    "                     x_range=rates, x_axis_label=\"Rate\")\n",
    "    n = 0.5\n",
    "    for rate, color in zip(rates, Spectral11):\n",
    "        plot_rates.vbar(x=n, top=rate, source=source_city, width=1, legend=rate, color=color)\n",
    "        n +=1\n",
    "    plot_rates.legend.orientation='horizontal'\n",
    "    plot_rates.legend.location='top_left'\n",
    "\n",
    "    #Text widgets with total number of restaurants & number of reviews\n",
    "    text_info = Paragraph(text='Total number of restaurants: {}'.format(source_df['Total_Restaurants'].values[0]),\n",
    "                          width=200, height=150)\n",
    "    text_info2 = Paragraph(text='Total number of reviews: {}'.format(source_df['Sum_Reviews'].values[0]),\n",
    "                           width=200, height=150)\n",
    "\n",
    "    #Dropdown menu for city choice\n",
    "    menu = Select(options=agg_dataset.index.tolist(), value='Krakow', \n",
    "                  title=\"City to display\", width=200)\n",
    "\n",
    "    #Callback function that updates the city from the menu\n",
    "    def update_city(attr, old, new):\n",
    "        city = menu.value\n",
    "        source_df = agg_dataset.loc[[city]]\n",
    "        source_df.columns = flat_column_labels\n",
    "        source_city.data = ColumnDataSource(source_df).data\n",
    "    menu.on_change('value', update_city)\n",
    "    \n",
    "    #Global layout\n",
    "    layout = row(column(widgetbox(menu), text_info, text_info2), \n",
    "                 column(plot_pr, plot_rates))\n",
    "    \n",
    "    bars.add_root(layout)\n",
    "    bars.title = \"Restaurants repartition by price range and rates per city\"\n",
    "\n",
    "apps = {'/': Application(FunctionHandler(make_bars))}\n",
    "server = Server(apps, port=5005)\n",
    "server.start()"
   ]
  },
  {
   "cell_type": "markdown",
   "metadata": {},
   "source": [
    "#### Visualization on map\n",
    "http://nbviewer.jupyter.org/github/bokeh/bokeh-notebooks/blob/master/tutorial/09%20-%20Geographic%20Plots.ipynb"
   ]
  },
  {
   "cell_type": "code",
   "execution_count": null,
   "metadata": {},
   "outputs": [],
   "source": [
    "#Set map background: Lsbon: #-1.010781e+06, 4.640350e+06  | Helsinki: 2.734619e+06 , 8.422571e+06\n",
    "Europe = x_range, y_range = ((-1100000,2700000), (4600000,8500000))  \n",
    "map = figure(tools='pan,wheel_zoom', x_range=x_range, y_range=y_range)\n",
    "map.axis.visible = False\n",
    "url = 'http://a.basemaps.cartocdn.com/pitney-bowes-streets/{Z}/{X}/{Y}.png'\n",
    "attribution = \"Tiles by Carto, under CC BY 3.0. Data by OSM, under ODbL\"\n",
    "map.add_tile(WMTSTileSource(url=url, attribution=attribution))\n",
    "\n",
    "#Add decimal longitude/latitude to dataframe (Wikipedia)\n",
    "coord_df = pd.DataFrame(dict(lat=[52.23, 37.58, 41.2257, 52.5178,48.0841, 50.50,47.2954, 55.4124,53.2036,\n",
    "                      55.5717,46.1200,53.33,60.1024,50.04,38.43,46.0305,51.3026,49.3636, 45.4535,\n",
    "                      40.26,45.28,48.09,41.08,59.5440,48.5124,50.0516,41.5319,59.1946,48.1230,\n",
    "                      52.1356,47.2240],\n",
    "                  lon=[4.54, 23.43, 2.1037, 13.4056,17.0646,4.21, 19.0227,12.3509,-6.1603,\n",
    "                      -3.1206,6.09,10,24.5655,19.57,-9.08,14.3021,-0.0739,6.08,4.5032,\n",
    "                      -3.41,9.10,11.3430,-8.4000,10.4510,2.2107,14.2514,12.2912,18.0407,16.2223,\n",
    "                      21.0003,8.3228]))\n",
    "coord_df.index = agg_dataset.index.tolist()\n",
    "map_df = pd.concat([agg_dataset, coord_df], axis=1)\n",
    "map_df.columns = flat_column_labels + ['lat', 'lon']  #non multi-index for map hover tool\n",
    "\n",
    "#Convert decimal coordinates into web mercator system\n",
    "k = 6378137\n",
    "map_df[\"x\"] = map_df['lon'] * (k * np.pi/180.0)\n",
    "map_df[\"y\"] = np.log(np.tan((90 + map_df['lat']) * np.pi/360.0)) * k\n",
    "\n",
    "#Add glyphs for each city and hover tool\n",
    "source_map = ColumnDataSource(map_df)\n",
    "map.circle('x', 'y',source=source_map, color='green', size=10)\n",
    "hover = HoverTool(tooltips=[('City', '@City' ), ('Number of restaurants:', '@Total_Restaurants'), \n",
    "                            ('Total Reviews', '@Sum_Reviews')])\n",
    "map.add_tools(hover)\n",
    "\n",
    "show(map)"
   ]
  }
 ],
 "metadata": {
  "kernelspec": {
   "display_name": "Python 3",
   "language": "python",
   "name": "python3"
  },
  "language_info": {
   "codemirror_mode": {
    "name": "ipython",
    "version": 3
   },
   "file_extension": ".py",
   "mimetype": "text/x-python",
   "name": "python",
   "nbconvert_exporter": "python",
   "pygments_lexer": "ipython3",
   "version": "3.6.3"
  }
 },
 "nbformat": 4,
 "nbformat_minor": 2
}
